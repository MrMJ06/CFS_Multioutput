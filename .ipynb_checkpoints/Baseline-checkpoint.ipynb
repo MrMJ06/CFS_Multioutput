{
 "cells": [
  {
   "cell_type": "code",
   "execution_count": 86,
   "metadata": {},
   "outputs": [],
   "source": [
    "from EAExperiment import EAExperiment\n",
    "import pandas as pd\n",
    "import functools\n",
    "from skfeature.function.statistical_based import CFS\n",
    "import numpy as np\n",
    "from metrics import evaluate\n",
    "import math\n",
    "import pprint\n",
    "from sklearn.tree import DecisionTreeRegressor"
   ]
  },
  {
   "cell_type": "code",
   "execution_count": 62,
   "metadata": {},
   "outputs": [],
   "source": [
    "def create_propositional_table_dataframe(df,w, target, h):\n",
    "    columns =[]\n",
    "    for i in range(w,0,-1):\n",
    "        columns.extend([s + \"_lag\"+str(i-1) for s in df.columns])\n",
    "    for t in target:\n",
    "        for j in range(h):\n",
    "            columns.append(t+\"_ahead\"+str(j+1))\n",
    "    dataframe = pd.DataFrame(columns=columns)\n",
    "    return dataframe\n",
    "    \n",
    "def create_propositional_table(df, w, h, target):\n",
    "    columns =[]\n",
    "    for i in range(w,0,-1):\n",
    "        columns.extend([s + \"_lag\"+str(i-1) for s in df.columns])\n",
    "    for t in target:\n",
    "        for j in range(h):\n",
    "            columns.append(t+\"_ahead\"+str(j+1))\n",
    "    dataframe = pd.DataFrame(columns=columns)\n",
    "    \n",
    "    indexes = []\n",
    "    for i in range((len(df)-w-h+1)):\n",
    "        window = df.iloc[i:(i+w)]\n",
    "        row = window.values.reshape(1, len(window.columns)*len(window))\n",
    "        targets = {}\n",
    "        for t in target:\n",
    "            row = np.append(row, df[t].iloc[(i+w):(i+w+h)])\n",
    "            \n",
    "        dataframe.loc[i]=row.reshape(1, len(row))[0]\n",
    "        indexes.append(window.index[-1])\n",
    "    \n",
    "    dataframe = dataframe.set_index(pd.Series(indexes))\n",
    "    \n",
    "    return dataframe"
   ]
  },
  {
   "cell_type": "code",
   "execution_count": 157,
   "metadata": {},
   "outputs": [],
   "source": [
    "regrt_model = DecisionTreeRegressor(max_depth=5)\n",
    "\n",
    "models = {\n",
    "    \"decision_tree_regressor\": regrt_model\n",
    "}"
   ]
  },
  {
   "cell_type": "code",
   "execution_count": 181,
   "metadata": {},
   "outputs": [],
   "source": [
    "def calculate_metrics(y_test, y_pred, target, model_name, metrics = ('mae', 'mape', 'rmse','mse')):\n",
    "    horizons = y_test.columns.values\n",
    "    index_horizons = np.append(horizons,target+\"_mean\")\n",
    "    index = [np.array([model_name for i in range(7)]), index_horizons]\n",
    "    metrics = pd.DataFrame(evaluate(y_test, y_pred, metrics=metrics))\n",
    "    metrics.loc[6] = metrics.values.mean(axis=0)\n",
    "    metrics = metrics.set_index(index)\n",
    "    \n",
    "    return metrics"
   ]
  },
  {
   "cell_type": "code",
   "execution_count": 182,
   "metadata": {},
   "outputs": [],
   "source": [
    "def execute_baseline(df_propositional_table, models, target, train_split=0.75):\n",
    "    tran_split = int(df_propositional_table.shape[0]*0.75)\n",
    "\n",
    "    X_train = df_propositional_table.iloc[:tran_split, :-6]\n",
    "    y_train = df_propositional_table.iloc[:tran_split, -6:]\n",
    "\n",
    "    X_test = df_propositional_table.iloc[tran_split:, :-6]\n",
    "    y_test = df_propositional_table.iloc[tran_split:, -6:]\n",
    "    \n",
    "    test_metrics_global = None\n",
    "    train_metrics_global = None\n",
    "    \n",
    "    results_global = None\n",
    "    for name, model in models.items():\n",
    "    \n",
    "        model.fit(X_train,y_train)\n",
    "\n",
    "        test_pred = regrt_model.predict(X_test)\n",
    "        train_pred = regrt_model.predict(X_train)\n",
    "        \n",
    "        test_metrics = calculate_metrics(y_test, test_pred, target, name)\n",
    "        train_metrics = calculate_metrics(y_train, train_pred, target, name)\n",
    "        \n",
    "        if test_metrics_global is None and train_metrics_global is None:\n",
    "            test_metrics_global = test_metrics\n",
    "            train_metrics_global = train_metrics\n",
    "        else:\n",
    "            test_metrics_global.append(test_metrics)\n",
    "            train_metrics_global.append(train_metrics)\n",
    "        \n",
    "        results_model = pd.concat({\"Real\": y_real, \"Pred\": y_test}, axis=1, names=[\"Type\", \"Horizon\"])\n",
    "        results = pd.concat({\"RegressionTree\": results_model}, axis=1, names=[\"Model\", \"Type\", \"Horizon\"])\n",
    "        \n",
    "        if results_global is None:\n",
    "            results_global = results\n",
    "        else:\n",
    "            results_global = pd.concat([results_global, results], axis=1, join='inner')\n",
    "    \n",
    "    return train_metrics_global, test_metrics_global, results_global\n",
    "            "
   ]
  },
  {
   "cell_type": "code",
   "execution_count": 183,
   "metadata": {},
   "outputs": [],
   "source": [
    "def execute(df, window, horizon, targets, models, train_split=0.75):\n",
    "    for target in targets:\n",
    "        df_propositional = create_propositional_table(df, 12, 6, [target])\n",
    "        train_metrics, test_metrics, results = execute_baseline(df_propositional, models, target, train_split)\n",
    "        \n",
    "        train_metrics.to_csv(\"metrics/train_metrics_\"+target)\n",
    "        test_metrics.to_csv(\"metrics/test_metrics_\"+target)\n",
    "        train_metrics.to_csv(\"results/results_\"+target)"
   ]
  },
  {
   "cell_type": "code",
   "execution_count": 184,
   "metadata": {},
   "outputs": [],
   "source": [
    "df = pd.read_csv('data.csv')\n",
    "df = df.set_index(\"PERIODO\")"
   ]
  },
  {
   "cell_type": "code",
   "execution_count": 185,
   "metadata": {},
   "outputs": [],
   "source": [
    "execute(df, 12, 6, [\"PESO_7\", \"PESO_8\", \"PESO_20\"], models)"
   ]
  },
  {
   "cell_type": "code",
   "execution_count": null,
   "metadata": {},
   "outputs": [],
   "source": []
  }
 ],
 "metadata": {
  "kernelspec": {
   "display_name": "Python 3",
   "language": "python",
   "name": "python3"
  },
  "language_info": {
   "codemirror_mode": {
    "name": "ipython",
    "version": 3
   },
   "file_extension": ".py",
   "mimetype": "text/x-python",
   "name": "python",
   "nbconvert_exporter": "python",
   "pygments_lexer": "ipython3",
   "version": "3.7.1"
  }
 },
 "nbformat": 4,
 "nbformat_minor": 2
}
