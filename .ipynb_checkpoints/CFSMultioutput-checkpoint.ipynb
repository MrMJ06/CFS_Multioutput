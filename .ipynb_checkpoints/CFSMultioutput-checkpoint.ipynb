{
 "cells": [
  {
   "cell_type": "code",
   "execution_count": 1,
   "metadata": {},
   "outputs": [],
   "source": [
    "from EAExperiment import EAExperiment\n",
    "import pandas as pd\n",
    "import functools\n",
    "from skfeature.function.statistical_based import CFS\n",
    "import numpy as np\n",
    "import math"
   ]
  },
  {
   "cell_type": "code",
   "execution_count": 2,
   "metadata": {},
   "outputs": [],
   "source": [
    "data = pd.read_csv('data.csv')\n",
    "window = 6\n",
    "horizont = 3\n",
    "target = 'PESO_7'\n",
    "n_gen = 2\n",
    "pop_size = 12\n",
    "max_window_size = 6"
   ]
  },
  {
   "cell_type": "code",
   "execution_count": 3,
   "metadata": {},
   "outputs": [],
   "source": [
    "def create_propositional_table_dataframe(df,w, target, h):\n",
    "    columns =[]\n",
    "    for i in range(w,0,-1):\n",
    "        columns.extend([s + \"_t-\"+str(i) for s in df.columns])\n",
    "    for t in target:\n",
    "        for j in range(h):\n",
    "            columns.append(t+\"_t\"+str(j))\n",
    "    dataframe = pd.DataFrame(columns=columns)\n",
    "    return dataframe\n",
    "    \n",
    "def create_propositional_table(df, w, h, target):\n",
    "    #dataframe = create_event_table_dataframe(df, w, target, h)\n",
    "    #print(dataframe.head())\n",
    "    columns =[]\n",
    "    for i in range(w,0,-1):\n",
    "        columns.extend([s + \"_t-\"+str(i) for s in df.columns])\n",
    "    for t in target:\n",
    "        for j in range(h):\n",
    "            columns.append(t+\"_t\"+str(j))\n",
    "    dataframe = pd.DataFrame(columns=columns)\n",
    "    \n",
    "    for i in range((len(df)-w-h+1)):\n",
    "        window = df.iloc[i:(i+w)]\n",
    "        row = window.values.reshape(1, len(window.columns)*len(window))\n",
    "        targets = {}\n",
    "        for t in target:\n",
    "            row = np.append(row, df[t].iloc[(i+w):(i+w+h)])\n",
    "            \n",
    "        dataframe.loc[i]=row.reshape(1, len(row))[0]\n",
    "    return dataframe"
   ]
  },
  {
   "cell_type": "code",
   "execution_count": 4,
   "metadata": {},
   "outputs": [],
   "source": [
    "def merit_calculation(X, y):\n",
    "    \"\"\"\n",
    "    This function calculates the merit of X given class labels y, where\n",
    "    merits = (k * rcf)/sqrt(k+k*(k-1)*rff)\n",
    "    rcf = (1/k)*sum(su(fi,y)) for all fi in X\n",
    "    rff = (1/(k*(k-1)))*sum(su(fi,fj)) for all fi and fj in X\n",
    "\n",
    "    Input\n",
    "    ----------\n",
    "    X: {numpy array}, shape (n_samples, n_features)\n",
    "        input data\n",
    "    y: {numpy array}, shape (n_samples,)\n",
    "        input class labels\n",
    "\n",
    "    Output\n",
    "    ----------\n",
    "    merits: {float}\n",
    "        merit of a feature subset X\n",
    "    \"\"\"\n",
    "\n",
    "    n_samples, n_features = X.shape\n",
    "    rff = 0\n",
    "    rcf = 0\n",
    "    for i in range(n_features):\n",
    "        fi = X[:, i]\n",
    "        rcf += su_calculation(fi, y)\n",
    "        for j in range(n_features):\n",
    "            if j > i:\n",
    "                fj = X[:, j]\n",
    "                rff += su_calculation(fi, fj)\n",
    "    rff *= 2\n",
    "    merits = rcf / np.sqrt(n_features + rff)\n",
    "    return merits"
   ]
  },
  {
   "cell_type": "code",
   "execution_count": 5,
   "metadata": {},
   "outputs": [],
   "source": [
    "def _evaluation_func(data, horizont, target, create_propositional_table, individuals):\n",
    "    \n",
    "    fitnesses = []\n",
    "    for individual in individuals:\n",
    "        target_idx = list(data.columns).index(target)\n",
    "        individual[target_idx] = 1\n",
    "        filtered_data = data.loc[:, individual[:-1].astype(bool)]\n",
    "        \n",
    "        window = individual[-1]\n",
    "        propositional_filtered = create_propositional_table(filtered_data, window, horizont, [target])\n",
    "        X = propositional_filtered.iloc[:, :-horizont]\n",
    "        Y = propositional_filtered.iloc[:, -horizont:]\n",
    "        fitness = 0\n",
    "        all_features = []\n",
    "        for h in Y.columns:\n",
    "            merits = CFS.merit_calculation(X.values, Y[h].values)\n",
    "            if not math.isnan(merits):\n",
    "                fitness += merits\n",
    "        fitnesses.append(fitness)\n",
    "            \n",
    "    return fitnesses\n",
    "    \n",
    "evaluation_func = functools.partial(_evaluation_func, data, horizont, target, create_propositional_table)"
   ]
  },
  {
   "cell_type": "code",
   "execution_count": 6,
   "metadata": {},
   "outputs": [
    {
     "name": "stdout",
     "output_type": "stream",
     "text": [
      "37\n",
      "37\n",
      "34\n",
      "36\n",
      "37\n",
      "41\n",
      "34\n",
      "36\n",
      "41\n",
      "36\n",
      "39\n",
      "43\n",
      "12\n",
      "12\n",
      "-- Generation 1 --\n",
      "34\n",
      "34\n",
      "37\n",
      "41\n",
      "38\n",
      "39\n",
      "6\n",
      "6\n",
      "  Min 3.0057221539138324\n",
      "  Max 3.0125138921071906\n",
      "  Avg 3.0102341299313866\n",
      "  Std 0.001848285165105795\n",
      "-- Generation 2 --\n",
      "34\n",
      "33\n",
      "34\n",
      "38\n",
      "34\n",
      "35\n",
      "37\n",
      "39\n",
      "41\n",
      "37\n",
      "10\n",
      "10\n",
      "  Min 3.0078965039341736\n",
      "  Max 3.0132086239774813\n",
      "  Avg 3.011634231542308\n",
      "  Std 0.0014968423704878589\n"
     ]
    }
   ],
   "source": [
    "eaExperiment = EAExperiment(evaluation_func)\n",
    "pop, fits = eaExperiment.start_search_ga(n_gen, pop_size, max_window_size, data)"
   ]
  },
  {
   "cell_type": "code",
   "execution_count": 12,
   "metadata": {},
   "outputs": [
    {
     "data": {
      "text/plain": [
       "3.0132086239774813"
      ]
     },
     "execution_count": 12,
     "metadata": {},
     "output_type": "execute_result"
    }
   ],
   "source": [
    "max_idx = fits.index(max(fits))\n",
    "fits[max_idx]"
   ]
  },
  {
   "cell_type": "code",
   "execution_count": 20,
   "metadata": {},
   "outputs": [],
   "source": [
    "columns = data.loc[:, list(map(bool,pop[max_idx][:-1]))].columns"
   ]
  },
  {
   "cell_type": "code",
   "execution_count": 23,
   "metadata": {},
   "outputs": [
    {
     "data": {
      "text/plain": [
       "(array(['PESO_1', 'NUM_OPERACIONES_1', 'VALOR_2', 'PESO_4', 'VALOR_4',\n",
       "        'NUM_OPERACIONES_4', 'VALOR_5', 'NUM_OPERACIONES_5',\n",
       "        'NUM_OPERACIONES_6', 'NUM_OPERACIONES_7', 'PESO_8',\n",
       "        'NUM_OPERACIONES_8', 'VALOR_10', 'PESO_11', 'VALOR_11',\n",
       "        'NUM_OPERACIONES_11', 'PESO_12', 'VALOR_12', 'NUM_OPERACIONES_12',\n",
       "        'VALOR_13', 'PESO_14', 'VALOR_14', 'NUM_OPERACIONES_14',\n",
       "        'NUM_OPERACIONES_15', 'VALOR_17', 'NUM_OPERACIONES_18', 'PESO_19',\n",
       "        'NUM_OPERACIONES_19', 'VALOR_21', 'NUM_OPERACIONES_21', 'VALOR_22',\n",
       "        'VALOR_23', 'w_med', 'hr', 'e', 'w_racha_dir'], dtype=object), 4)"
      ]
     },
     "execution_count": 23,
     "metadata": {},
     "output_type": "execute_result"
    }
   ],
   "source": [
    "columns.values, pop[max_idx][-1]"
   ]
  }
 ],
 "metadata": {
  "kernelspec": {
   "display_name": "Python 3",
   "language": "python",
   "name": "python3"
  },
  "language_info": {
   "codemirror_mode": {
    "name": "ipython",
    "version": 3
   },
   "file_extension": ".py",
   "mimetype": "text/x-python",
   "name": "python",
   "nbconvert_exporter": "python",
   "pygments_lexer": "ipython3",
   "version": "3.7.1"
  }
 },
 "nbformat": 4,
 "nbformat_minor": 2
}
