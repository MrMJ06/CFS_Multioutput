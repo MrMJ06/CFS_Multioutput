{
 "cells": [
  {
   "cell_type": "code",
   "execution_count": 1,
   "metadata": {},
   "outputs": [],
   "source": [
    "from EAExperiment import EAExperiment\n",
    "import pandas as pd\n",
    "import functools\n",
    "from skfeature.function.statistical_based import CFS"
   ]
  },
  {
   "cell_type": "code",
   "execution_count": 2,
   "metadata": {},
   "outputs": [],
   "source": [
    "data = pd.read_csv('data.csv')\n",
    "window = 6\n",
    "horizont = 3\n",
    "target = 'PESO_2'"
   ]
  },
  {
   "cell_type": "code",
   "execution_count": 3,
   "metadata": {},
   "outputs": [],
   "source": [
    "def create_propositional_table_dataframe(df,w, target, h):\n",
    "    columns =[]\n",
    "    for i in range(w,0,-1):\n",
    "        columns.extend([s + \"_t-\"+str(i) for s in df.columns])\n",
    "    for t in target:\n",
    "        for j in range(h):\n",
    "            columns.append(t+\"_t\"+str(j))\n",
    "    dataframe = pd.DataFrame(columns=columns)\n",
    "    return dataframe\n",
    "    \n",
    "def create_propositional_table(df, w, h, target):\n",
    "    dataframe = create_event_table_dataframe(df, w, target, h)\n",
    "    #print(dataframe.head())\n",
    "    for i in range((len(df)-w-h+1)):\n",
    "        window = df.iloc[i:(i+w)]\n",
    "        row = window.values.reshape(1, len(window.columns)*len(window))\n",
    "        targets = {}\n",
    "        for t in target:\n",
    "            row = np.append(row, df[t].iloc[(i+w):(i+w+h)])\n",
    "        dataframe.loc[i]=row.reshape(1, len(row))[0]\n",
    "    return dataframe"
   ]
  },
  {
   "cell_type": "code",
   "execution_count": null,
   "metadata": {},
   "outputs": [],
   "source": [
    "def _evaluation_func(individual, data, window, horizont, target):\n",
    "    filtered data = data.iloc[:, individual[:-1].astype(bool)]\n",
    "    propositional_filtered = create_propositional_table(filtered_data, window, horizont, target)\n",
    "    X = propositional_filtered.iloc[:, :-horizont]\n",
    "    Y = propositional_filtered.iloc[:, -horizont:]\n",
    "    fitness = 0\n",
    "    features = []\n",
    "    for h in Y.columns:\n",
    "        features, merits = CFS.cfs(X.values, y[h].values)\n",
    "        fitness += merits.mean()\n",
    "        features.extend(features)\n",
    "    features = set(features)\n",
    "    \n",
    "    return fitness, features\n",
    "    \n",
    "evaluation_func = functools.partial(_evaluation_func, data, window, horizont, target)"
   ]
  },
  {
   "cell_type": "code",
   "execution_count": null,
   "metadata": {},
   "outputs": [],
   "source": [
    "eaExperiment = EAExperiment()"
   ]
  }
 ],
 "metadata": {
  "kernelspec": {
   "display_name": "Python 3",
   "language": "python",
   "name": "python3"
  },
  "language_info": {
   "codemirror_mode": {
    "name": "ipython",
    "version": 3
   },
   "file_extension": ".py",
   "mimetype": "text/x-python",
   "name": "python",
   "nbconvert_exporter": "python",
   "pygments_lexer": "ipython3",
   "version": "3.7.1"
  }
 },
 "nbformat": 4,
 "nbformat_minor": 2
}
