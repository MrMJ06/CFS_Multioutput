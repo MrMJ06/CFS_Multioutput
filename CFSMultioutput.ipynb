{
 "cells": [
  {
   "cell_type": "code",
   "execution_count": 1,
   "metadata": {},
   "outputs": [],
   "source": [
    "from EAExperiment import EAExperiment\n",
    "import pandas as pd\n",
    "import functools\n",
    "from skfeature.function.statistical_based import CFS\n",
    "import numpy as np\n",
    "import math"
   ]
  },
  {
   "cell_type": "code",
   "execution_count": 2,
   "metadata": {},
   "outputs": [],
   "source": [
    "data = pd.read_csv('data.csv')\n",
    "window = 12\n",
    "horizont = 6\n",
    "target = 'PESO_7'\n",
    "n_gen = 50\n",
    "pop_size = 50\n",
    "max_window_size = 6"
   ]
  },
  {
   "cell_type": "code",
   "execution_count": 3,
   "metadata": {},
   "outputs": [],
   "source": [
    "def create_propositional_table_dataframe(df,w, target, h):\n",
    "    columns =[]\n",
    "    for i in range(w,0,-1):\n",
    "        columns.extend([s + \"_t-\"+str(i) for s in df.columns])\n",
    "    for t in target:\n",
    "        for j in range(h):\n",
    "            columns.append(t+\"_t\"+str(j))\n",
    "    dataframe = pd.DataFrame(columns=columns)\n",
    "    return dataframe\n",
    "    \n",
    "def create_propositional_table(df, w, h, target):\n",
    "    #dataframe = create_event_table_dataframe(df, w, target, h)\n",
    "    #print(dataframe.head())\n",
    "    columns =[]\n",
    "    for i in range(w,0,-1):\n",
    "        columns.extend([s + \"_t-\"+str(i) for s in df.columns])\n",
    "    for t in target:\n",
    "        for j in range(h):\n",
    "            columns.append(t+\"_t\"+str(j))\n",
    "    dataframe = pd.DataFrame(columns=columns)\n",
    "    \n",
    "    for i in range((len(df)-w-h+1)):\n",
    "        window = df.iloc[i:(i+w)]\n",
    "        row = window.values.reshape(1, len(window.columns)*len(window))\n",
    "        targets = {}\n",
    "        for t in target:\n",
    "            row = np.append(row, df[t].iloc[(i+w):(i+w+h)])\n",
    "            \n",
    "        dataframe.loc[i]=row.reshape(1, len(row))[0]\n",
    "    return dataframe"
   ]
  },
  {
   "cell_type": "code",
   "execution_count": 4,
   "metadata": {},
   "outputs": [],
   "source": [
    "def merit_calculation(X, y):\n",
    "    \"\"\"\n",
    "    This function calculates the merit of X given class labels y, where\n",
    "    merits = (k * rcf)/sqrt(k+k*(k-1)*rff)\n",
    "    rcf = (1/k)*sum(su(fi,y)) for all fi in X\n",
    "    rff = (1/(k*(k-1)))*sum(su(fi,fj)) for all fi and fj in X\n",
    "\n",
    "    Input\n",
    "    ----------\n",
    "    X: {numpy array}, shape (n_samples, n_features)\n",
    "        input data\n",
    "    y: {numpy array}, shape (n_samples,)\n",
    "        input class labels\n",
    "\n",
    "    Output\n",
    "    ----------\n",
    "    merits: {float}\n",
    "        merit of a feature subset X\n",
    "    \"\"\"\n",
    "\n",
    "    n_samples, n_features = X.shape\n",
    "    rff = 0\n",
    "    rcf = 0\n",
    "    for i in range(n_features):\n",
    "        fi = X[:, i]\n",
    "        rcf += su_calculation(fi, y)\n",
    "        for j in range(n_features):\n",
    "            if j > i:\n",
    "                fj = X[:, j]\n",
    "                rff += su_calculation(fi, fj)\n",
    "    rff *= 2\n",
    "    merits = rcf / np.sqrt(n_features + rff)\n",
    "    return merits"
   ]
  },
  {
   "cell_type": "code",
   "execution_count": 12,
   "metadata": {},
   "outputs": [],
   "source": [
    "def _evaluation_func(data, horizont, target, create_propositional_table, individuals):\n",
    "    \n",
    "    fitnesses = []\n",
    "    for individual in individuals:\n",
    "        target_idx = list(data.columns).index(target)\n",
    "        individual[target_idx] = 1\n",
    "        filtered_data = data.loc[:, individual[:-1].astype(bool)]\n",
    "        \n",
    "        window = individual[-1]\n",
    "        propositional_filtered = create_propositional_table(filtered_data, window, horizont, [target])\n",
    "        X = propositional_filtered.iloc[:, :-horizont]\n",
    "        Y = propositional_filtered.iloc[:, -horizont:]\n",
    "        fitness = 0\n",
    "        all_features = []\n",
    "        for h in Y.columns:\n",
    "            merits = CFS.merit_calculation(X.values, Y[h].values)\n",
    "            if not math.isnan(merits):\n",
    "                fitness += merits/len(Y.columns)\n",
    "        fitnesses.append(fitness)\n",
    "            \n",
    "    return fitnesses\n",
    "    \n",
    "evaluation_func = functools.partial(_evaluation_func, data, horizont, target, create_propositional_table)"
   ]
  },
  {
   "cell_type": "code",
   "execution_count": 13,
   "metadata": {},
   "outputs": [
    {
     "name": "stderr",
     "output_type": "stream",
     "text": [
      "/home/manuel/anaconda3/lib/python3.7/site-packages/deap/creator.py:141: RuntimeWarning: A class named 'FitnessMax' has already been created and it will be overwritten. Consider deleting previous creation of that class or rename it.\n",
      "  RuntimeWarning)\n",
      "/home/manuel/anaconda3/lib/python3.7/site-packages/deap/creator.py:141: RuntimeWarning: A class named 'Individual' has already been created and it will be overwritten. Consider deleting previous creation of that class or rename it.\n",
      "  RuntimeWarning)\n"
     ]
    },
    {
     "name": "stdout",
     "output_type": "stream",
     "text": [
      "-- Generation 1 --\n"
     ]
    },
    {
     "name": "stderr",
     "output_type": "stream",
     "text": [
      "/home/manuel/anaconda3/lib/python3.7/site-packages/skfeature/function/statistical_based/CFS.py:36: RuntimeWarning: invalid value encountered in double_scalars\n",
      "  merits = rcf / np.sqrt(n_features + rff)\n"
     ]
    },
    {
     "name": "stdout",
     "output_type": "stream",
     "text": [
      "  Min 0.0\n",
      "  Max 1.0047273783444914\n",
      "  Avg 0.9824392029663558\n",
      "  Std 0.14035039947481093\n",
      "-- Generation 2 --\n"
     ]
    },
    {
     "name": "stderr",
     "output_type": "stream",
     "text": [
      "/home/manuel/anaconda3/lib/python3.7/site-packages/skfeature/function/statistical_based/CFS.py:36: RuntimeWarning: invalid value encountered in double_scalars\n",
      "  merits = rcf / np.sqrt(n_features + rff)\n"
     ]
    },
    {
     "name": "stdout",
     "output_type": "stream",
     "text": [
      "  Min 0.0\n",
      "  Max 1.0047273783444914\n",
      "  Avg 0.9830072286311686\n",
      "  Std 0.14043140118400577\n",
      "-- Generation 3 --\n",
      "  Min 1.0019479163932987\n",
      "  Max 1.0060865635297953\n",
      "  Avg 1.00373301268186\n",
      "  Std 0.0007680632103442906\n",
      "-- Generation 4 --\n",
      "  Min 1.0022475188706979\n",
      "  Max 1.006113142083123\n",
      "  Avg 1.004189207609929\n",
      "  Std 0.0007581274446030183\n",
      "-- Generation 5 --\n"
     ]
    },
    {
     "name": "stderr",
     "output_type": "stream",
     "text": [
      "/home/manuel/anaconda3/lib/python3.7/site-packages/skfeature/function/statistical_based/CFS.py:36: RuntimeWarning: invalid value encountered in double_scalars\n",
      "  merits = rcf / np.sqrt(n_features + rff)\n"
     ]
    },
    {
     "name": "stdout",
     "output_type": "stream",
     "text": [
      "  Min 0.0\n",
      "  Max 1.0063638721015433\n",
      "  Avg 0.9847834957424897\n",
      "  Std 0.14068487802564272\n",
      "-- Generation 6 --\n"
     ]
    },
    {
     "name": "stderr",
     "output_type": "stream",
     "text": [
      "/home/manuel/anaconda3/lib/python3.7/site-packages/skfeature/function/statistical_based/CFS.py:36: RuntimeWarning: invalid value encountered in double_scalars\n",
      "  merits = rcf / np.sqrt(n_features + rff)\n"
     ]
    },
    {
     "name": "stdout",
     "output_type": "stream",
     "text": [
      "  Min 0.0\n",
      "  Max 1.0063638721015433\n",
      "  Avg 0.9852310642937477\n",
      "  Std 0.14074892340861808\n",
      "-- Generation 7 --\n"
     ]
    },
    {
     "name": "stderr",
     "output_type": "stream",
     "text": [
      "/home/manuel/anaconda3/lib/python3.7/site-packages/skfeature/function/statistical_based/CFS.py:36: RuntimeWarning: invalid value encountered in double_scalars\n",
      "  merits = rcf / np.sqrt(n_features + rff)\n"
     ]
    },
    {
     "name": "stdout",
     "output_type": "stream",
     "text": [
      "  Min 0.0\n",
      "  Max 1.006870054947356\n",
      "  Avg 0.9856738579963406\n",
      "  Std 0.14081121386365064\n",
      "-- Generation 8 --\n",
      "  Min 1.0038480421644116\n",
      "  Max 1.006870054947356\n",
      "  Avg 1.0060274986525923\n",
      "  Std 0.00048777542445152826\n",
      "-- Generation 9 --\n",
      "  Min 1.0041598661350404\n",
      "  Max 1.0071611003970153\n",
      "  Avg 1.0062122560640956\n",
      "  Std 0.0005515901621127733\n",
      "-- Generation 10 --\n",
      "  Min 1.003888454224924\n",
      "  Max 1.0076257926382288\n",
      "  Avg 1.006433378488101\n",
      "  Std 0.0006127351516282274\n",
      "-- Generation 11 --\n",
      "  Min 1.0057318435009281\n",
      "  Max 1.0076509809629717\n",
      "  Avg 1.0068034228398113\n",
      "  Std 0.0004751454616035846\n",
      "-- Generation 12 --\n"
     ]
    },
    {
     "name": "stderr",
     "output_type": "stream",
     "text": [
      "/home/manuel/anaconda3/lib/python3.7/site-packages/skfeature/function/statistical_based/CFS.py:36: RuntimeWarning: invalid value encountered in double_scalars\n",
      "  merits = rcf / np.sqrt(n_features + rff)\n",
      "/home/manuel/anaconda3/lib/python3.7/site-packages/skfeature/function/statistical_based/CFS.py:36: RuntimeWarning: invalid value encountered in double_scalars\n",
      "  merits = rcf / np.sqrt(n_features + rff)\n"
     ]
    },
    {
     "name": "stdout",
     "output_type": "stream",
     "text": [
      "  Min 0.0\n",
      "  Max 1.0081643839546504\n",
      "  Avg 0.9667908254184607\n",
      "  Std 0.1973465858066745\n",
      "-- Generation 13 --\n"
     ]
    },
    {
     "name": "stderr",
     "output_type": "stream",
     "text": [
      "/home/manuel/anaconda3/lib/python3.7/site-packages/skfeature/function/statistical_based/CFS.py:36: RuntimeWarning: invalid value encountered in double_scalars\n",
      "  merits = rcf / np.sqrt(n_features + rff)\n",
      "/home/manuel/anaconda3/lib/python3.7/site-packages/skfeature/function/statistical_based/CFS.py:36: RuntimeWarning: invalid value encountered in double_scalars\n",
      "  merits = rcf / np.sqrt(n_features + rff)\n"
     ]
    },
    {
     "name": "stdout",
     "output_type": "stream",
     "text": [
      "  Min 0.0\n",
      "  Max 1.0093509340021611\n",
      "  Avg 0.9672069920778654\n",
      "  Std 0.1974313948598403\n",
      "-- Generation 14 --\n",
      "  Min 1.0059919794150238\n",
      "  Max 1.0090794136195762\n",
      "  Avg 1.0077412888210793\n",
      "  Std 0.0005825293602154161\n",
      "-- Generation 15 --\n"
     ]
    },
    {
     "name": "stderr",
     "output_type": "stream",
     "text": [
      "/home/manuel/anaconda3/lib/python3.7/site-packages/skfeature/function/statistical_based/CFS.py:36: RuntimeWarning: invalid value encountered in double_scalars\n",
      "  merits = rcf / np.sqrt(n_features + rff)\n"
     ]
    },
    {
     "name": "stdout",
     "output_type": "stream",
     "text": [
      "  Min 0.0\n",
      "  Max 1.0090794136195762\n",
      "  Avg 0.9877670134053056\n",
      "  Std 0.1411112918551815\n",
      "-- Generation 16 --\n"
     ]
    },
    {
     "name": "stderr",
     "output_type": "stream",
     "text": [
      "/home/manuel/anaconda3/lib/python3.7/site-packages/skfeature/function/statistical_based/CFS.py:36: RuntimeWarning: invalid value encountered in double_scalars\n",
      "  merits = rcf / np.sqrt(n_features + rff)\n"
     ]
    },
    {
     "name": "stdout",
     "output_type": "stream",
     "text": [
      "  Min 0.0\n",
      "  Max 1.009296291074243\n",
      "  Avg 0.9880530665467119\n",
      "  Std 0.14115256112785757\n",
      "-- Generation 17 --\n",
      "  Min 1.006278400243963\n",
      "  Max 1.0107762110591623\n",
      "  Avg 1.008561819060166\n",
      "  Std 0.0008140344214101398\n",
      "-- Generation 18 --\n",
      "  Min 1.0075637704562739\n",
      "  Max 1.0107762110591623\n",
      "  Avg 1.0091320711901985\n",
      "  Std 0.0006323170777025353\n",
      "-- Generation 19 --\n",
      "  Min 1.0074369597107748\n",
      "  Max 1.0110595149221362\n",
      "  Avg 1.009598319641441\n",
      "  Std 0.0006745907218557277\n",
      "-- Generation 20 --\n"
     ]
    },
    {
     "name": "stderr",
     "output_type": "stream",
     "text": [
      "/home/manuel/anaconda3/lib/python3.7/site-packages/skfeature/function/statistical_based/CFS.py:36: RuntimeWarning: invalid value encountered in double_scalars\n",
      "  merits = rcf / np.sqrt(n_features + rff)\n",
      "/home/manuel/anaconda3/lib/python3.7/site-packages/skfeature/function/statistical_based/CFS.py:36: RuntimeWarning: invalid value encountered in double_scalars\n",
      "  merits = rcf / np.sqrt(n_features + rff)\n",
      "/home/manuel/anaconda3/lib/python3.7/site-packages/skfeature/function/statistical_based/CFS.py:36: RuntimeWarning: invalid value encountered in double_scalars\n",
      "  merits = rcf / np.sqrt(n_features + rff)\n"
     ]
    },
    {
     "name": "stdout",
     "output_type": "stream",
     "text": [
      "  Min 0.0\n",
      "  Max 1.0122420689560632\n",
      "  Avg 0.9494527518815599\n",
      "  Std 0.23987721842615722\n",
      "-- Generation 21 --\n",
      "  Min 1.0088089538722798\n",
      "  Max 1.0122483597496874\n",
      "  Avg 1.0105559036173772\n",
      "  Std 0.0007645568023727357\n",
      "-- Generation 22 --\n",
      "  Min 1.006747520194306\n",
      "  Max 1.0133693219446562\n",
      "  Avg 1.010872165412499\n",
      "  Std 0.0011565256876057016\n",
      "-- Generation 23 --\n",
      "  Min 1.008663917759365\n",
      "  Max 1.0144911091109863\n",
      "  Avg 1.0115479892494739\n",
      "  Std 0.0009525433702766627\n",
      "-- Generation 24 --\n"
     ]
    },
    {
     "name": "stderr",
     "output_type": "stream",
     "text": [
      "/home/manuel/anaconda3/lib/python3.7/site-packages/skfeature/function/statistical_based/CFS.py:36: RuntimeWarning: invalid value encountered in double_scalars\n",
      "  merits = rcf / np.sqrt(n_features + rff)\n"
     ]
    },
    {
     "name": "stdout",
     "output_type": "stream",
     "text": [
      "  Min 0.0\n",
      "  Max 1.0151009159474769\n",
      "  Avg 0.9920065400554574\n",
      "  Std 0.1417218657475124\n",
      "-- Generation 25 --\n",
      "  Min 1.0085895626806771\n",
      "  Max 1.0160214069804132\n",
      "  Avg 1.0130143249730867\n",
      "  Std 0.0013785526616596757\n",
      "-- Generation 26 --\n"
     ]
    },
    {
     "name": "stderr",
     "output_type": "stream",
     "text": [
      "/home/manuel/anaconda3/lib/python3.7/site-packages/skfeature/function/statistical_based/CFS.py:36: RuntimeWarning: invalid value encountered in double_scalars\n",
      "  merits = rcf / np.sqrt(n_features + rff)\n"
     ]
    },
    {
     "name": "stdout",
     "output_type": "stream",
     "text": [
      "  Min 0.0\n",
      "  Max 1.0160214069804132\n",
      "  Avg 0.9932261549000035\n",
      "  Std 0.14189896954675263\n",
      "-- Generation 27 --\n",
      "  Min 1.0103892546211648\n",
      "  Max 1.0164300655007728\n",
      "  Avg 1.0145456350939572\n",
      "  Std 0.001283193212628447\n",
      "-- Generation 28 --\n",
      "  Min 1.0105442598818881\n",
      "  Max 1.016630480166994\n",
      "  Avg 1.0151948270546394\n",
      "  Std 0.0014279559772260992\n",
      "-- Generation 29 --\n",
      "  Min 1.0096668462762663\n",
      "  Max 1.0171545728835851\n",
      "  Avg 1.015669768184099\n",
      "  Std 0.0014170228046591704\n",
      "-- Generation 30 --\n",
      "  Min 1.0097060587787299\n",
      "  Max 1.0171545728835851\n",
      "  Avg 1.0154207250989975\n",
      "  Std 0.0018348304979451436\n",
      "-- Generation 31 --\n",
      "  Min 1.0116276642917537\n",
      "  Max 1.0181109056614952\n",
      "  Avg 1.0158370876846459\n",
      "  Std 0.0015479501125676876\n",
      "-- Generation 32 --\n"
     ]
    },
    {
     "name": "stderr",
     "output_type": "stream",
     "text": [
      "/home/manuel/anaconda3/lib/python3.7/site-packages/skfeature/function/statistical_based/CFS.py:36: RuntimeWarning: invalid value encountered in double_scalars\n",
      "  merits = rcf / np.sqrt(n_features + rff)\n"
     ]
    },
    {
     "name": "stdout",
     "output_type": "stream",
     "text": [
      "  Min 0.0\n",
      "  Max 1.0181109056614952\n",
      "  Avg 0.9955273580346342\n",
      "  Std 0.14223096764600426\n",
      "-- Generation 33 --\n"
     ]
    },
    {
     "name": "stderr",
     "output_type": "stream",
     "text": [
      "/home/manuel/anaconda3/lib/python3.7/site-packages/skfeature/function/statistical_based/CFS.py:36: RuntimeWarning: invalid value encountered in double_scalars\n",
      "  merits = rcf / np.sqrt(n_features + rff)\n"
     ]
    },
    {
     "name": "stdout",
     "output_type": "stream",
     "text": [
      "  Min 0.0\n",
      "  Max 1.01874077629385\n",
      "  Avg 0.9959010554979092\n",
      "  Std 0.14228321067526223\n",
      "-- Generation 34 --\n",
      "  Min 1.0135449992987953\n",
      "  Max 1.019082432452909\n",
      "  Avg 1.017221199481373\n",
      "  Std 0.0012675336321858926\n",
      "-- Generation 35 --\n",
      "  Min 1.0136601446891307\n",
      "  Max 1.0196758335539033\n",
      "  Avg 1.0177517797998734\n",
      "  Std 0.001380668392447622\n",
      "-- Generation 36 --\n"
     ]
    },
    {
     "name": "stderr",
     "output_type": "stream",
     "text": [
      "/home/manuel/anaconda3/lib/python3.7/site-packages/skfeature/function/statistical_based/CFS.py:36: RuntimeWarning: invalid value encountered in double_scalars\n",
      "  merits = rcf / np.sqrt(n_features + rff)\n",
      "/home/manuel/anaconda3/lib/python3.7/site-packages/skfeature/function/statistical_based/CFS.py:36: RuntimeWarning: invalid value encountered in double_scalars\n",
      "  merits = rcf / np.sqrt(n_features + rff)\n"
     ]
    },
    {
     "name": "stdout",
     "output_type": "stream",
     "text": [
      "  Min 0.0\n",
      "  Max 1.021358373507332\n",
      "  Avg 0.9769596184216245\n",
      "  Std 0.1994337006331339\n",
      "-- Generation 37 --\n",
      "  Min 1.011055876064408\n",
      "  Max 1.021358373507332\n",
      "  Avg 1.0183121681373133\n",
      "  Std 0.0021154539888631673\n",
      "-- Generation 38 --\n",
      "  Min 1.011303639829278\n",
      "  Max 1.022749998112081\n",
      "  Avg 1.018874740508954\n",
      "  Std 0.0019337440191414764\n",
      "-- Generation 39 --\n"
     ]
    },
    {
     "name": "stderr",
     "output_type": "stream",
     "text": [
      "/home/manuel/anaconda3/lib/python3.7/site-packages/skfeature/function/statistical_based/CFS.py:36: RuntimeWarning: invalid value encountered in double_scalars\n",
      "  merits = rcf / np.sqrt(n_features + rff)\n"
     ]
    },
    {
     "name": "stdout",
     "output_type": "stream",
     "text": [
      "  Min 0.0\n",
      "  Max 1.022749998112081\n",
      "  Avg 0.9980737788735098\n",
      "  Std 0.14261211265177834\n",
      "-- Generation 40 --\n",
      "  Min 1.0120489542733313\n",
      "  Max 1.0246406531926673\n",
      "  Avg 1.0198873851110932\n",
      "  Std 0.002588297936997435\n",
      "-- Generation 41 --\n"
     ]
    },
    {
     "name": "stderr",
     "output_type": "stream",
     "text": [
      "/home/manuel/anaconda3/lib/python3.7/site-packages/skfeature/function/statistical_based/CFS.py:36: RuntimeWarning: invalid value encountered in double_scalars\n",
      "  merits = rcf / np.sqrt(n_features + rff)\n"
     ]
    },
    {
     "name": "stdout",
     "output_type": "stream",
     "text": [
      "  Min 0.0\n",
      "  Max 1.0246406531926673\n",
      "  Avg 1.0009272382606549\n",
      "  Std 0.1430025018918224\n",
      "-- Generation 42 --\n"
     ]
    },
    {
     "name": "stderr",
     "output_type": "stream",
     "text": [
      "/home/manuel/anaconda3/lib/python3.7/site-packages/skfeature/function/statistical_based/CFS.py:36: RuntimeWarning: invalid value encountered in double_scalars\n",
      "  merits = rcf / np.sqrt(n_features + rff)\n"
     ]
    },
    {
     "name": "stdout",
     "output_type": "stream",
     "text": [
      "  Min 0.0\n",
      "  Max 1.0258284146013834\n",
      "  Avg 1.0014986179059604\n",
      "  Std 0.1430965886843372\n",
      "-- Generation 43 --\n",
      "  Min 1.010809153436736\n",
      "  Max 1.027010529413281\n",
      "  Avg 1.0218679626788338\n",
      "  Std 0.003347250280752222\n",
      "-- Generation 44 --\n",
      "  Min 1.0122157108388976\n",
      "  Max 1.029056296983937\n",
      "  Avg 1.023378617314773\n",
      "  Std 0.0032116502917490628\n",
      "-- Generation 45 --\n",
      "  Min 1.0157858258548813\n",
      "  Max 1.029056296983937\n",
      "  Avg 1.0243558205271595\n",
      "  Std 0.0030278279751180044\n",
      "-- Generation 46 --\n",
      "  Min 1.0122911860025172\n",
      "  Max 1.0303685471521247\n",
      "  Avg 1.0256300013479487\n",
      "  Std 0.0032430790959577776\n",
      "-- Generation 47 --\n",
      "  Min 1.0157191837796884\n",
      "  Max 1.0333232344606393\n",
      "  Avg 1.0261254742103956\n",
      "  Std 0.0034181155717733923\n",
      "-- Generation 48 --\n",
      "  Min 1.015767412669448\n",
      "  Max 1.0333232344606393\n",
      "  Avg 1.0266809040429976\n",
      "  Std 0.004242178609242094\n",
      "-- Generation 49 --\n"
     ]
    },
    {
     "name": "stderr",
     "output_type": "stream",
     "text": [
      "/home/manuel/anaconda3/lib/python3.7/site-packages/skfeature/function/statistical_based/CFS.py:36: RuntimeWarning: invalid value encountered in double_scalars\n",
      "  merits = rcf / np.sqrt(n_features + rff)\n"
     ]
    },
    {
     "name": "stdout",
     "output_type": "stream",
     "text": [
      "  Min 0.0\n",
      "  Max 1.0333232344606393\n",
      "  Avg 0.9858024172627898\n",
      "  Std 0.20128378203169964\n",
      "-- Generation 50 --\n",
      "  Min 1.0157598074296414\n",
      "  Max 1.0333232344606393\n",
      "  Avg 1.028689189101224\n",
      "  Std 0.0035515508921129093\n"
     ]
    }
   ],
   "source": [
    "eaExperiment = EAExperiment(evaluation_func)\n",
    "pop, fits = eaExperiment.start_search_ga(n_gen, pop_size, max_window_size, data)"
   ]
  },
  {
   "cell_type": "code",
   "execution_count": 7,
   "metadata": {},
   "outputs": [
    {
     "data": {
      "text/plain": [
       "6.225572245031367"
      ]
     },
     "execution_count": 7,
     "metadata": {},
     "output_type": "execute_result"
    }
   ],
   "source": [
    "max_idx = fits.index(max(fits))\n",
    "fits[max_idx]"
   ]
  },
  {
   "cell_type": "code",
   "execution_count": 8,
   "metadata": {},
   "outputs": [],
   "source": [
    "columns = data.loc[:, list(map(bool,pop[max_idx][:-1]))].columns"
   ]
  },
  {
   "cell_type": "code",
   "execution_count": 9,
   "metadata": {},
   "outputs": [
    {
     "data": {
      "text/plain": [
       "14"
      ]
     },
     "execution_count": 9,
     "metadata": {},
     "output_type": "execute_result"
    }
   ],
   "source": [
    "sum(pop[max_idx][:-1])"
   ]
  },
  {
   "cell_type": "code",
   "execution_count": 10,
   "metadata": {},
   "outputs": [
    {
     "name": "stdout",
     "output_type": "stream",
     "text": [
      "Variables: ['NUM_OPERACIONES_1' 'NUM_OPERACIONES_5' 'NUM_OPERACIONES_8'\n",
      " 'NUM_OPERACIONES_9' 'NUM_OPERACIONES_11' 'NUM_OPERACIONES_13'\n",
      " 'NUM_OPERACIONES_14' 'NUM_OPERACIONES_15' 'NUM_OPERACIONES_18'\n",
      " 'NUM_OPERACIONES_22' 'w_med' 'hr' 'w_racha_dir' 'PIB']\n",
      "Window size: 5\n"
     ]
    }
   ],
   "source": [
    "print(\"Variables: \"+str(columns.values))\n",
    "print(\"Window size: \"+str(pop[max_idx][-1]))"
   ]
  },
  {
   "cell_type": "code",
   "execution_count": 11,
   "metadata": {},
   "outputs": [
    {
     "data": {
      "text/plain": [
       "\"NUM_OPERACIONES_1','NUM_OPERACIONES_5','NUM_OPERACIONES_8','NUM_OPERACIONES_9','NUM_OPERACIONES_11','NUM_OPERACIONES_13','NUM_OPERACIONES_14','NUM_OPERACIONES_15','NUM_OPERACIONES_18','NUM_OPERACIONES_22','w_med','hr','w_racha_dir','PIB\""
      ]
     },
     "execution_count": 11,
     "metadata": {},
     "output_type": "execute_result"
    }
   ],
   "source": [
    "'\\',\\''.join(columns.values)"
   ]
  }
 ],
 "metadata": {
  "kernelspec": {
   "display_name": "Python 3",
   "language": "python",
   "name": "python3"
  },
  "language_info": {
   "codemirror_mode": {
    "name": "ipython",
    "version": 3
   },
   "file_extension": ".py",
   "mimetype": "text/x-python",
   "name": "python",
   "nbconvert_exporter": "python",
   "pygments_lexer": "ipython3",
   "version": "3.7.1"
  }
 },
 "nbformat": 4,
 "nbformat_minor": 2
}
